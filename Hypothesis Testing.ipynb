{
  "nbformat": 4,
  "nbformat_minor": 0,
  "metadata": {
    "colab": {
      "name": "bike-rentals.ipynb",
      "provenance": [],
      "collapsed_sections": [],
      "toc_visible": true,
      "authorship_tag": "ABX9TyM7CVmve7FqAuv/C0v3iVVq",
      "include_colab_link": true
    },
    "kernelspec": {
      "display_name": "Python 3",
      "name": "python3"
    },
    "accelerator": "GPU"
  },
  "cells": [
    {
      "cell_type": "markdown",
      "metadata": {
        "id": "view-in-github",
        "colab_type": "text"
      },
      "source": [
        "<a href=\"https://colab.research.google.com/github/Raghav-81/SDS-Project-Bike-Rentals/blob/master/Hypothesis%20Testing.ipynb\" target=\"_parent\"><img src=\"https://colab.research.google.com/assets/colab-badge.svg\" alt=\"Open In Colab\"/></a>"
      ]
    },
    {
      "cell_type": "markdown",
      "metadata": {
        "id": "wSy_w9wciRP_"
      },
      "source": [
        "## Imports"
      ]
    },
    {
      "cell_type": "code",
      "metadata": {
        "id": "sbTjz9tPiQyF"
      },
      "source": [
        "import pandas as pd\n",
        "from statsmodels.stats.weightstats import ztest\n",
        "from scipy.stats import f_oneway as anova"
      ],
      "execution_count": 52,
      "outputs": []
    },
    {
      "cell_type": "code",
      "metadata": {
        "colab": {
          "base_uri": "https://localhost:8080/",
          "height": 309
        },
        "id": "FBMWN3VIh3jY",
        "outputId": "e422f7e4-713d-45e6-9cfc-988bec607864"
      },
      "source": [
        "bike = pd.read_csv(\"/content/SDS-Project-Bike-Rentals/Data_Handling.csv\")\n",
        "bike.head()"
      ],
      "execution_count": 8,
      "outputs": [
        {
          "output_type": "execute_result",
          "data": {
            "text/html": [
              "<div>\n",
              "<style scoped>\n",
              "    .dataframe tbody tr th:only-of-type {\n",
              "        vertical-align: middle;\n",
              "    }\n",
              "\n",
              "    .dataframe tbody tr th {\n",
              "        vertical-align: top;\n",
              "    }\n",
              "\n",
              "    .dataframe thead th {\n",
              "        text-align: right;\n",
              "    }\n",
              "</style>\n",
              "<table border=\"1\" class=\"dataframe\">\n",
              "  <thead>\n",
              "    <tr style=\"text-align: right;\">\n",
              "      <th></th>\n",
              "      <th>instant</th>\n",
              "      <th>dteday</th>\n",
              "      <th>season</th>\n",
              "      <th>yr</th>\n",
              "      <th>mnth</th>\n",
              "      <th>hr</th>\n",
              "      <th>holiday</th>\n",
              "      <th>weekday</th>\n",
              "      <th>workingday</th>\n",
              "      <th>weathersit</th>\n",
              "      <th>temp</th>\n",
              "      <th>atemp</th>\n",
              "      <th>hum</th>\n",
              "      <th>windspeed</th>\n",
              "      <th>casual</th>\n",
              "      <th>registered</th>\n",
              "      <th>cnt</th>\n",
              "    </tr>\n",
              "  </thead>\n",
              "  <tbody>\n",
              "    <tr>\n",
              "      <th>0</th>\n",
              "      <td>1</td>\n",
              "      <td>2011-01-01</td>\n",
              "      <td>winter</td>\n",
              "      <td>0</td>\n",
              "      <td>January</td>\n",
              "      <td>0</td>\n",
              "      <td>0</td>\n",
              "      <td>Saturday</td>\n",
              "      <td>0</td>\n",
              "      <td>1</td>\n",
              "      <td>9.84</td>\n",
              "      <td>14.395</td>\n",
              "      <td>81.0</td>\n",
              "      <td>0.0</td>\n",
              "      <td>3</td>\n",
              "      <td>13</td>\n",
              "      <td>16</td>\n",
              "    </tr>\n",
              "    <tr>\n",
              "      <th>1</th>\n",
              "      <td>2</td>\n",
              "      <td>2011-01-01</td>\n",
              "      <td>winter</td>\n",
              "      <td>0</td>\n",
              "      <td>January</td>\n",
              "      <td>1</td>\n",
              "      <td>0</td>\n",
              "      <td>Saturday</td>\n",
              "      <td>0</td>\n",
              "      <td>1</td>\n",
              "      <td>9.02</td>\n",
              "      <td>13.635</td>\n",
              "      <td>80.0</td>\n",
              "      <td>0.0</td>\n",
              "      <td>8</td>\n",
              "      <td>32</td>\n",
              "      <td>40</td>\n",
              "    </tr>\n",
              "    <tr>\n",
              "      <th>2</th>\n",
              "      <td>3</td>\n",
              "      <td>2011-01-01</td>\n",
              "      <td>winter</td>\n",
              "      <td>0</td>\n",
              "      <td>January</td>\n",
              "      <td>2</td>\n",
              "      <td>0</td>\n",
              "      <td>Saturday</td>\n",
              "      <td>0</td>\n",
              "      <td>1</td>\n",
              "      <td>9.02</td>\n",
              "      <td>13.635</td>\n",
              "      <td>80.0</td>\n",
              "      <td>0.0</td>\n",
              "      <td>5</td>\n",
              "      <td>27</td>\n",
              "      <td>32</td>\n",
              "    </tr>\n",
              "    <tr>\n",
              "      <th>3</th>\n",
              "      <td>4</td>\n",
              "      <td>2011-01-01</td>\n",
              "      <td>winter</td>\n",
              "      <td>0</td>\n",
              "      <td>January</td>\n",
              "      <td>3</td>\n",
              "      <td>0</td>\n",
              "      <td>Saturday</td>\n",
              "      <td>0</td>\n",
              "      <td>1</td>\n",
              "      <td>9.84</td>\n",
              "      <td>14.395</td>\n",
              "      <td>75.0</td>\n",
              "      <td>0.0</td>\n",
              "      <td>3</td>\n",
              "      <td>10</td>\n",
              "      <td>13</td>\n",
              "    </tr>\n",
              "    <tr>\n",
              "      <th>4</th>\n",
              "      <td>5</td>\n",
              "      <td>2011-01-01</td>\n",
              "      <td>winter</td>\n",
              "      <td>0</td>\n",
              "      <td>January</td>\n",
              "      <td>4</td>\n",
              "      <td>0</td>\n",
              "      <td>Saturday</td>\n",
              "      <td>0</td>\n",
              "      <td>1</td>\n",
              "      <td>9.84</td>\n",
              "      <td>14.395</td>\n",
              "      <td>75.0</td>\n",
              "      <td>0.0</td>\n",
              "      <td>0</td>\n",
              "      <td>1</td>\n",
              "      <td>1</td>\n",
              "    </tr>\n",
              "  </tbody>\n",
              "</table>\n",
              "</div>"
            ],
            "text/plain": [
              "   instant      dteday  season  yr  ... windspeed  casual  registered cnt\n",
              "0        1  2011-01-01  winter   0  ...       0.0       3          13  16\n",
              "1        2  2011-01-01  winter   0  ...       0.0       8          32  40\n",
              "2        3  2011-01-01  winter   0  ...       0.0       5          27  32\n",
              "3        4  2011-01-01  winter   0  ...       0.0       3          10  13\n",
              "4        5  2011-01-01  winter   0  ...       0.0       0           1   1\n",
              "\n",
              "[5 rows x 17 columns]"
            ]
          },
          "metadata": {
            "tags": []
          },
          "execution_count": 8
        }
      ]
    },
    {
      "cell_type": "markdown",
      "metadata": {
        "id": "NirExVEfF0Dg"
      },
      "source": [
        "# Hypothesis Testing\n",
        "\n",
        "Throughout all the Hypothesis statements, the significance value is `0.05` or `5%`\n",
        "\n",
        "$\\alpha = 0.05$"
      ]
    },
    {
      "cell_type": "markdown",
      "metadata": {
        "id": "O4aQyBJyG7WM"
      },
      "source": [
        "## Hypothesis 1\n",
        "\n",
        "The hypothesis statement is taken from https://nacto.org/bike-share-statistics-2017/\n",
        "\n",
        "There is more demand for bike rentals during peak hours i.e. between 7-9 am and 4-6 pm on working days\n",
        "\n",
        "Let $\\mu_{peak}$ be the mean count of bike rental users on working days during peak hours\n",
        "\n",
        "Let $\\mu_{\\text{not peak}}$ be the mean count of bike rental users on working days during non peak hours\n",
        "\n",
        "Null Hypothesis:\n",
        "$ \\mu_{peak} - \\mu_{\\text{not peak}} = 0 $\n",
        "\n",
        "Alternate Hypothesis:\n",
        "$ \\mu_{peak} - \\mu_{\\text{not peak}} > 0 $\n",
        "\n",
        "Test to be conducted: Two sample z test"
      ]
    },
    {
      "cell_type": "code",
      "metadata": {
        "id": "iIG5BTnTI4WR"
      },
      "source": [
        "peak = bike.query('workingday == 1 and ((hr>=7 and hr<=9) or (hr>=16 and hr<=18))')\n",
        "not_peak = bike.query('workingday == 1 and ((hr==6) or (hr>=10 and hr<=15) or (hr>=19 and hr<=21))')"
      ],
      "execution_count": 17,
      "outputs": []
    },
    {
      "cell_type": "code",
      "metadata": {
        "colab": {
          "base_uri": "https://localhost:8080/"
        },
        "id": "W7E5j_rxFyCc",
        "outputId": "b893cde0-f3c1-4e4e-ae13-a07187698fc4"
      },
      "source": [
        "ztest(peak['cnt'] , not_peak['cnt'], alternative=\"larger\")"
      ],
      "execution_count": 19,
      "outputs": [
        {
          "output_type": "execute_result",
          "data": {
            "text/plain": [
              "(52.80985574722311, 0.0)"
            ]
          },
          "metadata": {
            "tags": []
          },
          "execution_count": 19
        }
      ]
    },
    {
      "cell_type": "markdown",
      "metadata": {
        "id": "dZLGHFWPK1fy"
      },
      "source": [
        "The p_value is `0`! \\\\\n",
        "That means the data strongly opposes the null hypothesis\n",
        "\n",
        "Therefore we reject the null hypothesis and accept the alternate hypothesis"
      ]
    },
    {
      "cell_type": "markdown",
      "metadata": {
        "id": "njB1JssULcA_"
      },
      "source": [
        "## Hypothesis 2\n",
        "\n",
        "The hypothesis statement is taken from https://nacto.org/bike-share-statistics-2017/\n",
        "\n",
        "There is more demand for bike rentals on working days than non working days\n",
        "\n",
        "Let $\\mu_{working}$ be the mean count of bike rental users on working days\n",
        "\n",
        "Let $\\mu_{\\text{not working}}$ be the mean count of bike rental users on non working days\n",
        "\n",
        "Null Hypothesis:\n",
        "$ \\mu_{working} - \\mu_{\\text{not working}} = 0 $\n",
        "\n",
        "Alternate Hypothesis:\n",
        "$ \\mu_{working} - \\mu_{\\text{not working}} > 0$\n",
        "\n",
        "Test to be conducted: Two sample z test"
      ]
    },
    {
      "cell_type": "code",
      "metadata": {
        "id": "oKMwAd8qLcA_"
      },
      "source": [
        "working = bike.query('workingday == 1')\n",
        "not_working = bike.query('not workingday == 1')"
      ],
      "execution_count": 23,
      "outputs": []
    },
    {
      "cell_type": "code",
      "metadata": {
        "colab": {
          "base_uri": "https://localhost:8080/"
        },
        "id": "OF0SL1UwLcA_",
        "outputId": "dbb26811-b46b-43b5-be39-da27ccd3bdef"
      },
      "source": [
        "ztest(working['cnt'] , not_working['cnt'], alternative=\"larger\")"
      ],
      "execution_count": 24,
      "outputs": [
        {
          "output_type": "execute_result",
          "data": {
            "text/plain": [
              "(3.993973309150059, 3.248759054718501e-05)"
            ]
          },
          "metadata": {
            "tags": []
          },
          "execution_count": 24
        }
      ]
    },
    {
      "cell_type": "markdown",
      "metadata": {
        "id": "OSv7tuv9LcA_"
      },
      "source": [
        "The p_value is less than `0.05`! \\\\\n",
        "That means the data opposes the null hypothesis\n",
        "\n",
        "Therefore we reject the null hypothesis and accept the alternate hypothesis"
      ]
    },
    {
      "cell_type": "markdown",
      "metadata": {
        "id": "hN7tf53MMtKW"
      },
      "source": [
        "## Hypothesis 3\n",
        "\n",
        "The hypothesis statement is taken from https://nacto.org/bike-share-statistics-2017/\n",
        "\n",
        "The number of rented bikes double every year \n",
        "\n",
        "Let $\\mu_{2012}$ be the mean count of bike rental users in 2012\n",
        "\n",
        "Let $cnt_{2011}$ be the mean count of bike rental users in 2011\n",
        "\n",
        "Null Hypothesis:\n",
        "$ \\mu_{2012} < 2 \\times{cnt_{2011}} $\n",
        "\n",
        "Alternate Hypothesis:\n",
        "$ \\mu_{2012} \\geq  2 \\times{cnt_{2011}}$\n",
        "\n",
        "Test to be conducted: one sample z test"
      ]
    },
    {
      "cell_type": "code",
      "metadata": {
        "colab": {
          "base_uri": "https://localhost:8080/"
        },
        "id": "nLfghnYhMtKW",
        "outputId": "394bf401-fb21-48fc-c3b7-7b2575959073"
      },
      "source": [
        "bike_2012 = bike.query('yr==1')\n",
        "cnt_2011 = bike.query('yr==0')['cnt'].mean()"
      ],
      "execution_count": 27,
      "outputs": [
        {
          "output_type": "execute_result",
          "data": {
            "text/plain": [
              "143.79444765760556"
            ]
          },
          "metadata": {
            "tags": []
          },
          "execution_count": 27
        }
      ]
    },
    {
      "cell_type": "code",
      "metadata": {
        "colab": {
          "base_uri": "https://localhost:8080/"
        },
        "id": "jR7hjZOzMtKX",
        "outputId": "2419b0ef-ed9c-46dd-ed09-2d8541a656f7"
      },
      "source": [
        "ztest(bike_2012['cnt'] , value = 2*cnt_2011, alternative=\"larger\")"
      ],
      "execution_count": 42,
      "outputs": [
        {
          "output_type": "execute_result",
          "data": {
            "text/plain": [
              "(-23.674784738187125, 1.0)"
            ]
          },
          "metadata": {
            "tags": []
          },
          "execution_count": 42
        }
      ]
    },
    {
      "cell_type": "markdown",
      "metadata": {
        "id": "uSad9PjsMtKX"
      },
      "source": [
        "The p_value is `1`! \\\\\n",
        "That means the data strongly accepts the null hypothesis\n",
        "\n",
        "Therefore we accept the null hypothesis and reject the alternate hypothesis2 "
      ]
    },
    {
      "cell_type": "markdown",
      "metadata": {
        "id": "Nmr_aGXlP6wP"
      },
      "source": [
        "## Hypothesis 4\n",
        "\n",
        "The hypothesis statement is taken from the paper\n",
        "[*Investigation on the effects of weather and calendar events on bike-sharing according to the trip patterns of bike rentals of stations*](https://www.sciencedirect.com/science/article/abs/pii/S0966692317304659)\n",
        "\n",
        "During travel hours i.e 6am – 10pm, bike rentals drop at feeling temperatures above 30​\n",
        "\n",
        "Let $\\mu_{30}$ be the mean count of bike rental users during the time `6am - 10pm` at which the feeling temperature is above or equal to `30`\n",
        "\n",
        "Let $\\mu_{29}$ be the mean count of bike rental users during the time `6am - 10pm ` at which the feeling temperature is below 30\n",
        "\n",
        "Null Hypothesis:\n",
        "$ \\mu_{30} - \\mu_{29} >= 0$\n",
        "\n",
        "Alternate Hypothesis:\n",
        "$ \\mu_{30} - \\mu_{29} < 0$\n",
        "\n",
        "Test to be conducted: two sample z test"
      ]
    },
    {
      "cell_type": "code",
      "metadata": {
        "id": "uVz4E3oPP6wQ"
      },
      "source": [
        "bike_30 = bike.query('(hr>=6 and hr<=22) and atemp>=30')\n",
        "bike_29 = bike.query('(hr>=6 and hr<=22) and atemp<30')\n"
      ],
      "execution_count": 51,
      "outputs": []
    },
    {
      "cell_type": "code",
      "metadata": {
        "colab": {
          "base_uri": "https://localhost:8080/"
        },
        "id": "vObJrv04P6wQ",
        "outputId": "f4428635-0cab-451f-e239-f64a1915079b"
      },
      "source": [
        "ztest(bike_30['cnt'] , bike_29['cnt'], alternative=\"smaller\")"
      ],
      "execution_count": 50,
      "outputs": [
        {
          "output_type": "execute_result",
          "data": {
            "text/plain": [
              "(44.7643892887034, 1.0)"
            ]
          },
          "metadata": {
            "tags": []
          },
          "execution_count": 50
        }
      ]
    },
    {
      "cell_type": "markdown",
      "metadata": {
        "id": "5QMFKBbtP6wQ"
      },
      "source": [
        "The p_value is `1`! \\\\\n",
        "That means the data strongly accepts the null hypothesis\n",
        "\n",
        "Therefore we accept the null hypothesis and reject the alternate hypothesis2 "
      ]
    },
    {
      "cell_type": "markdown",
      "metadata": {
        "id": "tETgp9ilUcLq"
      },
      "source": [
        "## Hypothesis 5\n",
        "\n",
        "The hypothesis statement is taken from the paper\n",
        "[*Investigation on the effects of weather and calendar events on bike-sharing according to the trip patterns of bike rentals of stations*](https://www.sciencedirect.com/science/article/abs/pii/S0966692317304659)\n",
        "\n",
        "In case of Light rain, the count of bike rental users decreases as compared to mist and clear again during travel hours\n",
        "\n",
        "Let $\\mu_{lr}$ be the mean count of bike rental users during light rain\n",
        "\n",
        "Let $\\mu_{cl}$ be the mean count of bike rental users during clear and cloudy sky\n",
        "\n",
        "Null Hypothesis:\n",
        "$ \\mu_{lr} = \\mu_{cl}\n",
        "\n",
        "Alternate Hypothesis:\n",
        "$ \\mu_{lr} < \\mu_{cl}$\n",
        "\n",
        "Test to be conducted: one way ANOVA test"
      ]
    },
    {
      "cell_type": "code",
      "metadata": {
        "id": "1b7htkiXUcLq"
      },
      "source": [
        "clear = bike.query('weathersit == 1')\n",
        "cloudy = bike.query('weathersit == 2')\n",
        "lr = bike.query('weathersit == 3')"
      ],
      "execution_count": 53,
      "outputs": []
    },
    {
      "cell_type": "code",
      "metadata": {
        "colab": {
          "base_uri": "https://localhost:8080/"
        },
        "id": "OoNT4uCjUcLr",
        "outputId": "7c838deb-63ba-492a-c9fa-1ad72b1c5fed"
      },
      "source": [
        "anova(clear['cnt'] , cloudy['cnt'], lr['cnt'])"
      ],
      "execution_count": 54,
      "outputs": [
        {
          "output_type": "execute_result",
          "data": {
            "text/plain": [
              "F_onewayResult(statistic=190.12547702844438, pvalue=2.0903098979675505e-82)"
            ]
          },
          "metadata": {
            "tags": []
          },
          "execution_count": 54
        }
      ]
    },
    {
      "cell_type": "markdown",
      "metadata": {
        "id": "Gp3wpSNmUcLs"
      },
      "source": [
        "The p_value is  less than 0.05 ! \\\\\n",
        "That means the data rejects the null hypothesis\n",
        "\n",
        "Therefore we reject the null hypothesis and accept the alternate hypothesis"
      ]
    }
  ]
}